{
 "cells": [
  {
   "cell_type": "markdown",
   "id": "91cfb768",
   "metadata": {},
   "source": [
    "Question 1.\n",
    "\n",
    "Consider the following Python module:\n",
    "a = 0 \n",
    "def b():\n",
    "global a\n",
    "a = c(a)\n",
    "def c(a):\n",
    "return a + 2\n",
    "After importing the module into the interpreter, you execute:\n",
    ">>> b()\n",
    "\n",
    ">>> b()\n",
    "\n",
    ">>> b()\n",
    "\n",
    ">>> a\n",
    "\n",
    "\n",
    "What value is displayed when the last expression (a) is evaluated? Explain your Banswer by indicating what happens in every executed statement."
   ]
  },
  {
   "cell_type": "code",
   "execution_count": 1,
   "id": "9dd3ed1c",
   "metadata": {},
   "outputs": [
    {
     "data": {
      "text/plain": [
       "0"
      ]
     },
     "execution_count": 1,
     "metadata": {},
     "output_type": "execute_result"
    }
   ],
   "source": [
    "#ANSWER of QUESTION 1\n",
    "\n",
    "a = 0   #initial value of a set as 0\n",
    "def b():    #defining a function 'b()' using def keyword \n",
    "    global a    #global keyword is used to indicate that 'a' is a global variable\n",
    "    a = c(a)    #used to update the value of global variable 'a'\n",
    "def c(a):   #defining a function 'c' which takes 'a' as input parameter\n",
    "    return a + 2    #used to increament the value of a by 2\n",
    "a   #printing initial value"
   ]
  },
  {
   "cell_type": "code",
   "execution_count": 2,
   "id": "44aebcdf",
   "metadata": {},
   "outputs": [
    {
     "data": {
      "text/plain": [
       "2"
      ]
     },
     "execution_count": 2,
     "metadata": {},
     "output_type": "execute_result"
    }
   ],
   "source": [
    "#1st function 'b()' call\n",
    "#using current value of 'a' as 0\n",
    "b()   \n",
    "a"
   ]
  },
  {
   "cell_type": "code",
   "execution_count": 3,
   "id": "a6ac67c5",
   "metadata": {},
   "outputs": [
    {
     "data": {
      "text/plain": [
       "4"
      ]
     },
     "execution_count": 3,
     "metadata": {},
     "output_type": "execute_result"
    }
   ],
   "source": [
    "#2nd function 'b()' call\n",
    "#using current value of 'a' as 2\n",
    "b()   \n",
    "a"
   ]
  },
  {
   "cell_type": "code",
   "execution_count": 4,
   "id": "9d86755f",
   "metadata": {},
   "outputs": [
    {
     "data": {
      "text/plain": [
       "6"
      ]
     },
     "execution_count": 4,
     "metadata": {},
     "output_type": "execute_result"
    }
   ],
   "source": [
    "#3rd function 'b()' call\n",
    "#using current value of 'a' as 4\n",
    "b()   \n",
    "a"
   ]
  },
  {
   "cell_type": "code",
   "execution_count": null,
   "id": "5c502e3d",
   "metadata": {},
   "outputs": [],
   "source": []
  },
  {
   "cell_type": "markdown",
   "id": "218857a9",
   "metadata": {},
   "source": [
    "Question 2.\n",
    "\n",
    "Function fileLength(), given to you, takes the name of a file as input and returns \n",
    "the length of the file:\n",
    "\n",
    ">>> fileLength('midterm.py')\n",
    "\n",
    "284\n",
    "\n",
    ">>> fileLength('idterm.py') \n",
    "\n",
    "Traceback (most recent call last):\n",
    "\n",
    "File \"<pyshell#34>\", line 1, in <module> \n",
    "    \n",
    "fileLength('idterm.py')\n",
    "File \"/Users/me/midterm.py\", line 3, in fileLength \n",
    "infile = open(filename)\n",
    "FileNotFoundError: [Errno 2] No such file or directory: \n",
    "'idterm.py'\n",
    "As shown above, if the file cannot be found by the interpreter or if it cannot be read \n",
    "as a text file, an exception will be raised. Modify function fileLength() so that a \n",
    "friendly message is printed instead:\n",
    "    \n",
    ">>> fileLength('midterm.py')\n",
    "    \n",
    "358\n",
    "    \n",
    ">>> fileLength('idterm.py')\n",
    "    \n",
    "File idterm.py not found"
   ]
  },
  {
   "cell_type": "code",
   "execution_count": 26,
   "id": "ba596ed2",
   "metadata": {},
   "outputs": [
    {
     "name": "stdout",
     "output_type": "stream",
     "text": [
      "The length of file is:  6136\n",
      "None\n",
      "File  nswers.ipynb  is not found!\n",
      "None\n"
     ]
    }
   ],
   "source": [
    "#ANSWER of QUESTION 2\n",
    "\n",
    "#using format of a 'try/except' statement pair to handle exception gracefully by printing friendly error message\n",
    "\n",
    "def fileLength(file_name):   #creating a function 'fileLength()' taking name of a file as input\n",
    "    try: \n",
    "        file = open(file_name)    #used to open the file with file name\n",
    "        data = file.read()        #to read the content of file\n",
    "        file.close() \n",
    "        print(\"The length of file is: \",len(data))          #to return the length of file content\n",
    "    except FileNotFoundError: \n",
    "        print(\"File \",str(file_name),\" is not found!\")      #printing custom error message \n",
    "    except IOError: \n",
    "        print(\"Error in reading file: \",str(file_name))     #printing custom error message\n",
    "\n",
    "#giving a file name as input\n",
    "print(fileLength('Answers.ipynb'))    #displaying length of file by inputing original file_name\n",
    "print(fileLength('nswers.ipynb'))     #displaying FileNotFound error\n"
   ]
  },
  {
   "cell_type": "code",
   "execution_count": null,
   "id": "e02d5cb2",
   "metadata": {},
   "outputs": [],
   "source": []
  },
  {
   "cell_type": "markdown",
   "id": "11f5dc42",
   "metadata": {},
   "source": [
    "Question 3.\n",
    "Write a class named Marsupial that can be used as shown below:\n",
    "\n",
    ">>> m = Marsupial()\n",
    ">>> m.put_in_pouch('doll')\n",
    ">>> m.put_in_pouch('firetruck')\n",
    ">>> m.put_in_pouch('kitten')\n",
    ">>> m.pouch_contents() \n",
    "\n",
    "['doll', 'firetruck', 'kitten']\n",
    "\n",
    "Now write a class named Kangaroo as a subclass of Marsupial that inherits all the \n",
    "attributes of Marsupial and also:\n",
    "a. extends the Marsupial __init__ constructor to take, as input, the\n",
    "coordinates x and y of the Kangaroo object,\n",
    "b. supports method jump that takes number values dx and dy as input and \n",
    "movesthe kangaroo by dx units along the x-axis and by dy units along the y\u0002axis, and\n",
    "c. overloads the __str__ operator so it behaves as shown below.\n",
    "\n",
    ">>> k = Kangaroo(0,0)\n",
    ">>> print(k)\n",
    "\n",
    "I am a Kangaroo located at coordinates (0,0)\n",
    "\n",
    ">>> k.put_in_pouch('doll')\n",
    ">>> k.put_in_pouch('firetruck')\n",
    ">>> k.put_in_pouch('kitten')\n",
    ">>> k.pouch_contents() \n",
    "\n",
    "['doll', 'firetruck', 'kitten']\n",
    "\n",
    ">>> k.jump(1,0)\n",
    ">>> k.jump(1,0)\n",
    ">>> k.jump(1,0)\n",
    ">>> print(k)\n",
    "\n",
    "I am a Kangaroo located at coordinates (3,0)"
   ]
  },
  {
   "cell_type": "code",
   "execution_count": 25,
   "id": "90920c55",
   "metadata": {},
   "outputs": [
    {
     "name": "stdout",
     "output_type": "stream",
     "text": [
      "['doll', 'firetruck', 'kitten']\n",
      "I am a Kangaroo located at (0,0)\n",
      "['doll', 'firetruck', 'kitten']\n",
      "I am a Kangaroo located at (3,0)\n"
     ]
    }
   ],
   "source": [
    "#ANSWER of QUESTION 3\n",
    "\n",
    "#defining a class using 3 methods\n",
    "class Marsupial:\n",
    "    def __init__(instance):       #initializing an empty list 'pouch', attribute of Marsupial\n",
    "        instance.pouch = [ ]\n",
    "    def put_in_pouch(instance,item):     #to append the item to list\n",
    "        instance.pouch.append(item)\n",
    "    def get_pouch_contents(instance):    #to return all items of list\n",
    "        return instance.pouch\n",
    "\n",
    "#defining subclass of Marsupial that inherits all attributes of this class\n",
    "class Kangaroo(Marsupial):\n",
    "    def __init__(instance,x,y):    #extending the constructor\n",
    "        super().__init__()         #initializing inherited attributes, Marsupial is a superclass\n",
    "        instance.x = x             #setting x and y coordinates of Kangaroo\n",
    "        instance.y = y\n",
    "    def jump(instance,dx,dy):      #updating x and y attributes to their current values\n",
    "        instance.x += dx\n",
    "        instance.y += dy\n",
    "    def __str__(instance):\n",
    "        return f\"I am a Kangaroo located at ({instance.x},{instance.y})\"    #to return a string with current coordinates\n",
    "\n",
    "#Example\n",
    "M = Marsupial()\n",
    "M.put_in_pouch('doll')\n",
    "M.put_in_pouch('firetruck')\n",
    "M.put_in_pouch('kitten')\n",
    "print(M.get_pouch_contents())\n",
    "\n",
    "K = Kangaroo(0,0)\n",
    "print(K)\n",
    "\n",
    "K.put_in_pouch('doll')\n",
    "K.put_in_pouch('firetruck')\n",
    "K.put_in_pouch('kitten')\n",
    "print(K.get_pouch_contents()) \n",
    "K.jump(1,0)\n",
    "K.jump(1,0)\n",
    "K.jump(1,0)\n",
    "print(K)"
   ]
  },
  {
   "cell_type": "code",
   "execution_count": null,
   "id": "785116b3",
   "metadata": {},
   "outputs": [],
   "source": []
  },
  {
   "cell_type": "markdown",
   "id": "1d0584ad",
   "metadata": {},
   "source": [
    "Question 4.\n",
    "Write function collatz() that takes a positive integer x as input and prints the \n",
    "Collatz sequence starting at x. A Collatz sequence is obtained by repeatedly applying \n",
    "this rule to the previous number x in the sequence:\n",
    "x = {\n",
    "𝑥/2 𝑖𝑓 𝑥 𝑖𝑠 𝑒𝑣𝑒𝑛3𝑥\n",
    "+1 𝑖𝑓 𝑥 𝑖𝑠 𝑜𝑑𝑑\n",
    "Your function should stop when the sequence gets to number 1. Your \n",
    "implementation must be recursive, without any loops.\n",
    "\n",
    ">>> collatz(1) \n",
    "\n",
    "1\n",
    "\n",
    ">>> collatz(10) \n",
    "\n",
    "10\n",
    "5\n",
    "16\n",
    "8\n",
    "4\n",
    "2\n",
    "1"
   ]
  },
  {
   "cell_type": "code",
   "execution_count": 47,
   "id": "d8971ce0",
   "metadata": {},
   "outputs": [
    {
     "name": "stdout",
     "output_type": "stream",
     "text": [
      "1\n",
      "10\n",
      "5\n",
      "16\n",
      "8\n",
      "4\n",
      "2\n",
      "1\n"
     ]
    }
   ],
   "source": [
    "#ANSWER of QUESTION 4\n",
    "\n",
    "def collatz(x):      #defining a function with positive input value\n",
    "    print(x)         \n",
    "    if x == 1:       #condition for recursive function\n",
    "        return\n",
    "    elif x%2 == 0:   #if x is even\n",
    "        y = x//2\n",
    "    else:\n",
    "        y = 3*x+1    #if x is odd\n",
    "    collatz(y)       \n",
    "collatz(1)           #calling function recursively\n",
    "collatz(10) "
   ]
  },
  {
   "cell_type": "code",
   "execution_count": null,
   "id": "b5d33f1b",
   "metadata": {},
   "outputs": [],
   "source": []
  },
  {
   "cell_type": "markdown",
   "id": "9b779dcb",
   "metadata": {},
   "source": [
    "Question 5.\n",
    "Write a recursive method binary() that takes a non-negative \n",
    "integer n and prints the binary representation of integer n.\n",
    ">>> binary(0)\n",
    "0\n",
    ">>> binary(1)\n",
    "1\n",
    ">>> binary(3) \n",
    "11\n",
    ">>> binary(9) \n",
    "1001"
   ]
  },
  {
   "cell_type": "code",
   "execution_count": 3,
   "id": "ed1022a8",
   "metadata": {},
   "outputs": [
    {
     "name": "stdout",
     "output_type": "stream",
     "text": [
      "0\n",
      "1 "
     ]
    }
   ],
   "source": [
    "#ANSWER of QUESTION 5\n",
    "\n",
    "def binary(n):     #defining a function that takes positive integer as input \n",
    "    if n==0:\n",
    "        print(0)\n",
    "    else:\n",
    "        pos_binary(n)\n",
    "def pos_binary(n):\n",
    "    if n>0:\n",
    "        pos_binary(n//2)\n",
    "        print(n%2,end=' ')\n",
    "binary(0)   #prints remainder of '0 % 2'\n",
    "binary(1)   #prints remainder of '1 % 2'"
   ]
  },
  {
   "cell_type": "code",
   "execution_count": 4,
   "id": "29af6298",
   "metadata": {},
   "outputs": [
    {
     "name": "stdout",
     "output_type": "stream",
     "text": [
      "1 1 "
     ]
    }
   ],
   "source": [
    "binary(3)   #prints remainder of '3 % 2'"
   ]
  },
  {
   "cell_type": "code",
   "execution_count": 5,
   "id": "0f6f4311",
   "metadata": {},
   "outputs": [
    {
     "name": "stdout",
     "output_type": "stream",
     "text": [
      "1 0 0 1 "
     ]
    }
   ],
   "source": [
    "binary(9)   #prints remainder of '9 % 2'"
   ]
  },
  {
   "cell_type": "code",
   "execution_count": null,
   "id": "b4d00699",
   "metadata": {},
   "outputs": [],
   "source": []
  },
  {
   "cell_type": "markdown",
   "id": "4cc8c826",
   "metadata": {},
   "source": [
    "Question 6.\n",
    "Implement a class named HeadingParser that can be used to parse an HTML \n",
    "document, and retrieve and print all the headings in the document. You should \n",
    "implement your class as a subclass of HTMLParser, defined in Standard Library \n",
    "module html.parser. When fed a string containing HTML code, your class should \n",
    "print the headings, one per line and in the order in which they appear in the \n",
    "document.Each heading should be indented asfollows: an h1 heading should have \n",
    "indentation 0, and h2 heading should have indentation 1, etc. Test your \n",
    "implementation using w3c.html.\n",
    "\n",
    ">>> infile = open('w3c.html')\n",
    "\n",
    ">>> content = infile.read()\n",
    "\n",
    ">>> infile.close()\n",
    "\n",
    ">>> hp = HeadingParser()\n",
    "\n",
    ">>> hp.feed(content) \n",
    "\n",
    "W3C Mission \n",
    "\n",
    "Principles"
   ]
  },
  {
   "cell_type": "code",
   "execution_count": 25,
   "id": "40391d64",
   "metadata": {},
   "outputs": [
    {
     "name": "stdout",
     "output_type": "stream",
     "text": [
      "\n",
      "\n",
      "\n",
      "\n",
      "\n",
      "\n",
      "  \n",
      "\n",
      "  \n",
      "\n",
      "  \n",
      "Change_me\n",
      "\n",
      "  \n",
      "\n",
      "  \n",
      "\n",
      "  \n",
      "\n",
      "\n",
      "\n",
      "\n",
      "\n",
      "\n",
      "  \n",
      "\t\n",
      "W3C Mission\n",
      "\n",
      "\t\n",
      "Principles\n",
      "\n",
      " \n",
      "\n",
      "\n",
      "\n",
      "\n",
      "\n"
     ]
    }
   ],
   "source": [
    "#ANSWER of QUESTION 6\n",
    "\n",
    "from html.parser import HTMLParser    #importing a class from a module\n",
    "\n",
    "class HeadingPARSER(HTMLParser):     #subclass of HTMLParser\n",
    "    h = ['H1','H2','H3','H4','H5','H6']       #list of headers\n",
    "\n",
    "    #3 methods from HTMLParser\n",
    "    def handle_starttag(instance, tag, attrs):\n",
    "        if tag in instance.h:\n",
    "            print(tag)\n",
    "\n",
    "    def handle_endtag(instance, tag):\n",
    "        if tag in instance.h:\n",
    "            print(tag)\n",
    "\n",
    "    def handle_data(instance, data):\n",
    "        print(data)\n",
    "            \n",
    "    def print_headings(instance):\n",
    "        for h in instance.h:\n",
    "            print(h)\n",
    "            \n",
    "\n",
    "file = open('w3c.html')    #to open a file\n",
    "data = file.read()       #to read contents\n",
    "file.close()\n",
    "\n",
    "parser = HeadingPARSER()\n",
    "parser.feed(data)"
   ]
  },
  {
   "cell_type": "code",
   "execution_count": null,
   "id": "3dfdb225",
   "metadata": {},
   "outputs": [],
   "source": []
  },
  {
   "cell_type": "markdown",
   "id": "ed79c688",
   "metadata": {},
   "source": [
    "Question 7.\n",
    "Implement recursive function webdir() that takes as input: a URL (as a string) and \n",
    "non-negative integers depth and indent. Your function should visit every web \n",
    "page reachable from the starting URL web page in depth clicks or less, and print \n",
    "each web page's URL. As shown below, indentation, specified by indent, should \n",
    "be used to indicate the depth of a URL.\n",
    "\n",
    ">>>\n",
    "\n",
    "webdir('http://reed.cs.depaul.edu/lperkovic/csc242/test1.html'\n",
    ", 2, 0)\n",
    "\n",
    "http://reed.cs.depaul.edu/lperkovic/csc242/test1.html\n",
    "\n",
    "http://reed.cs.depaul.edu/lperkovic/csc242/test2.html\n",
    "\n",
    "http://reed.cs.depaul.edu/lperkovic/csc242/test4.html\n",
    "\n",
    "http://reed.cs.depaul.edu/lperkovic/csc242/test3.html\n",
    "\n",
    "http://reed.cs.depaul.edu/lperkovic/csc242/test4.html"
   ]
  },
  {
   "cell_type": "code",
   "execution_count": 14,
   "id": "4f7a6e08",
   "metadata": {},
   "outputs": [
    {
     "name": "stdout",
     "output_type": "stream",
     "text": [
      "http://reed.cs.depaul.edu/lperkovic/csc242/test1.html\n"
     ]
    }
   ],
   "source": [
    "# ANSWER OF QUESTION 7\n",
    "\n",
    "import requests\n",
    "from bs4 import BeautifulSoup\n",
    "\n",
    "\n",
    "def webdir(url, depth, indent):\n",
    "    # Make a GET request to the URL\n",
    "    response = requests.get(url)\n",
    "    \n",
    "    # Print the current URL\n",
    "    print(url)\n",
    "    \n",
    "    # Check if the depth limit has been reached\n",
    "    if depth == indent:\n",
    "        return\n",
    "    \n",
    "    # Parse the HTML content using BeautifulSoup\n",
    "    soup = BeautifulSoup(response.text, 'html.parser')\n",
    "    \n",
    "    # Find all <a> tags in the HTML\n",
    "    for link in soup.find_all('a'):\n",
    "        new_url = link.get('href')\n",
    "        \n",
    "        # Check if the link starts with 'http'\n",
    "        if new_url.startswith('http'):\n",
    "            # Recursive call to webdir with updated URL and increased indentation\n",
    "            webdir(new_url, depth, indent + 1)\n",
    "\n",
    "\n",
    "webdir(\"http://reed.cs.depaul.edu/lperkovic/csc242/test1.html\", 1, 0)\n"
   ]
  },
  {
   "cell_type": "code",
   "execution_count": null,
   "id": "0f39cbf1",
   "metadata": {},
   "outputs": [],
   "source": []
  },
  {
   "cell_type": "markdown",
   "id": "c198ed1e",
   "metadata": {},
   "source": [
    "Question 8.\n",
    "Write SQL queries on the below database table that return:\n",
    "a) All the temperature data.\n",
    "\n",
    "b) All the cities, but without repetition.\n",
    "\n",
    "c) All the records for India.\n",
    "\n",
    "d) All the Fall records.\n",
    "\n",
    "e) The city, country, and season for which the average rainfall is between 200 \n",
    "and 400 millimeters.\n",
    "\n",
    "f) The city and country for which the average Fall temperature is above 20 \n",
    "degrees, in increasing temperature order.\n",
    "\n",
    "g) The total annual rainfall for Cairo.\n",
    "\n",
    "h) The total rainfall for each season.\n"
   ]
  },
  {
   "cell_type": "code",
   "execution_count": 6,
   "id": "35246925",
   "metadata": {},
   "outputs": [
    {
     "name": "stdout",
     "output_type": "stream",
     "text": [
      "Temperature data:\n",
      "24.8\n",
      "28.4\n",
      "27.9\n",
      "27.6\n",
      "4.2\n",
      "8.3\n",
      "15.7\n",
      "10.4\n",
      "13.6\n",
      "20.7\n",
      "27.7\n",
      "22.2\n",
      "City data:\n",
      "Mumbai\n",
      "London\n",
      "Cairo\n",
      "Weather data for India:\n",
      "('Mumbai', 'India', 'Winter', 24.8, 5.9)\n",
      "('Mumbai', 'India', 'Spring', 28.4, 16.2)\n",
      "('Mumbai', 'India', 'Summer', 27.9, 1549.4)\n",
      "('Mumbai', 'India', 'Fall', 27.6, 346)\n",
      "Weather data for the Fall season:\n",
      "('Mumbai', 'India', 'Fall', 27.6, 346)\n",
      "('London', 'United Kingdom', 'Fall', 10.4, 218.5)\n",
      "('Cairo', 'Egypt', 'Fall', 22.2, 4.5)\n",
      "Weather data with rainfall between 200 and 400:\n",
      "('London', 'United Kingdom', 'Fall')\n",
      "('London', 'United Kingdom', 'Winter')\n",
      "('Mumbai', 'India', 'Fall')\n",
      "Filtered data based on temperature for the Fall season:\n",
      "('Cairo', 'Egypt')\n",
      "('Mumbai', 'India')\n",
      "Total rainfall in Cairo:\n",
      "27.6\n",
      "Total rainfall by season:\n",
      "('Fall', 569.0)\n",
      "('Spring', 192.29999999999998)\n",
      "('Summer', 1706.5)\n",
      "('Winter', 230.1)\n"
     ]
    }
   ],
   "source": [
    "# ANSWER OF QUESTION 8\n",
    "\n",
    "import sqlite3\n",
    "\n",
    "# Connect to the SQLite database\n",
    "conn = sqlite3.connect('weather.db')\n",
    "cursor = conn.cursor()\n",
    "\n",
    "# Drop the weather_data table if it already exists\n",
    "cursor.execute(\"DROP TABLE IF EXISTS weather_data\")\n",
    "\n",
    "# Create the weather_data table\n",
    "cursor.execute('''\n",
    "    CREATE TABLE weather_data(\n",
    "        City VARCHAR(50),\n",
    "        Country VARCHAR(50),\n",
    "        Season VARCHAR(50),\n",
    "        Temperature DECIMAL(4,1),\n",
    "        Rainfall DECIMAL(6,1)\n",
    "    )\n",
    "''')\n",
    "\n",
    "# Insert data into the weather_data table\n",
    "cursor.execute('''\n",
    "    INSERT INTO weather_data(City, Country, Season, Temperature, Rainfall)\n",
    "    VALUES('Mumbai', 'India', 'Winter', 24.8, 5.9)\n",
    "''')\n",
    "\n",
    "cursor.execute('''\n",
    "    INSERT INTO weather_data(City, Country, Season, Temperature, Rainfall)\n",
    "    VALUES('Mumbai', 'India', 'Spring', 28.4, 16.2)\n",
    "''')\n",
    "\n",
    "cursor.execute('''\n",
    "    INSERT INTO weather_data(City, Country, Season, Temperature, Rainfall)\n",
    "    VALUES('Mumbai', 'India', 'Summer', 27.9, 1549.4)\n",
    "''')\n",
    "\n",
    "cursor.execute('''\n",
    "    INSERT INTO weather_data(City, Country, Season, Temperature, Rainfall)\n",
    "    VALUES('Mumbai', 'India', 'Fall', 27.6, 346.0)\n",
    "''')\n",
    "\n",
    "cursor.execute('''\n",
    "    INSERT INTO weather_data(City, Country, Season, Temperature, Rainfall)\n",
    "    VALUES('London', 'United Kingdom', 'Winter', 4.2, 207.7)\n",
    "''')\n",
    "\n",
    "cursor.execute('''\n",
    "    INSERT INTO weather_data(City, Country, Season, Temperature, Rainfall)\n",
    "    VALUES('London', 'United Kingdom', 'Spring', 8.3, 169.6)\n",
    "''')\n",
    "\n",
    "cursor.execute('''\n",
    "    INSERT INTO weather_data(City, Country, Season, Temperature, Rainfall)\n",
    "    VALUES('London', 'United Kingdom', 'Summer', 15.7, 157.0)\n",
    "''')\n",
    "\n",
    "cursor.execute('''\n",
    "    INSERT INTO weather_data(City, Country, Season, Temperature, Rainfall)\n",
    "    VALUES('London', 'United Kingdom', 'Fall', 10.4, 218.5)\n",
    "''')\n",
    "\n",
    "cursor.execute('''\n",
    "    INSERT INTO weather_data(City, Country, Season, Temperature, Rainfall)\n",
    "    VALUES('Cairo', 'Egypt', 'Winter', 13.6, 16.5)\n",
    "''')\n",
    "\n",
    "cursor.execute('''\n",
    "    INSERT INTO weather_data(City, Country, Season, Temperature, Rainfall)\n",
    "    VALUES('Cairo', 'Egypt', 'Spring', 20.7, 6.5)\n",
    "''')\n",
    "\n",
    "cursor.execute('''\n",
    "    INSERT INTO weather_data(City, Country, Season, Temperature, Rainfall)\n",
    "    VALUES('Cairo', 'Egypt', 'Summer', 27.7, 0.1)\n",
    "''')\n",
    "\n",
    "cursor.execute('''\n",
    "    INSERT INTO weather_data(City, Country, Season, Temperature, Rainfall)\n",
    "    VALUES('Cairo', 'Egypt', 'Fall', 22.2, 4.5)\n",
    "''')\n",
    "\n",
    "# Commit the changes to the database\n",
    "conn.commit()\n",
    "\n",
    "# Execute the SQL queries\n",
    "\n",
    "# (a)\n",
    "cursor.execute('SELECT Temperature FROM weather_data')\n",
    "temperatures = cursor.fetchall()\n",
    "print(\"Temperature data:\")\n",
    "for temperature in temperatures:\n",
    "    print(temperature[0])\n",
    "\n",
    "# (b)\n",
    "cursor.execute('SELECT DISTINCT City FROM weather_data')\n",
    "cities = cursor.fetchall()\n",
    "print(\"City data:\")\n",
    "for city in cities:\n",
    "    print(city[0])\n",
    "\n",
    "# (c)\n",
    "cursor.execute(\"SELECT * FROM weather_data WHERE Country = 'India'\")\n",
    "india_data = cursor.fetchall()\n",
    "print(\"Weather data for India:\")\n",
    "for row in india_data:\n",
    "    print(row)\n",
    "\n",
    "# (d)\n",
    "cursor.execute(\"SELECT * FROM weather_data WHERE Season = 'Fall'\")\n",
    "fall_data = cursor.fetchall()\n",
    "print(\"Weather data for the Fall season:\")\n",
    "for row in fall_data:\n",
    "    print(row)\n",
    "\n",
    "# (e)\n",
    "cursor.execute('''\n",
    "    SELECT City, Country, Season\n",
    "    FROM weather_data\n",
    "    GROUP BY City, Country, Season\n",
    "    HAVING AVG(Rainfall) BETWEEN 200 AND 400\n",
    "''')\n",
    "rainfall_data = cursor.fetchall()\n",
    "print(\"Weather data with rainfall between 200 and 400:\")\n",
    "for row in rainfall_data:\n",
    "    print(row)\n",
    "\n",
    "# (f)\n",
    "cursor.execute('''\n",
    "    SELECT City, Country\n",
    "    FROM weather_data\n",
    "    WHERE Season = 'Fall'\n",
    "    GROUP BY City, Country\n",
    "    HAVING AVG(Temperature) > 20\n",
    "    ORDER BY AVG(Temperature) ASC\n",
    "''')\n",
    "filtered_data = cursor.fetchall()\n",
    "print(\"Filtered data based on temperature for the Fall season:\")\n",
    "for row in filtered_data:\n",
    "    print(row)\n",
    "\n",
    "# (g)\n",
    "cursor.execute(\"SELECT SUM(Rainfall) AS Total_Rainfall FROM weather_data WHERE City = 'Cairo'\")\n",
    "total_rainfall = cursor.fetchone()[0]\n",
    "print(\"Total rainfall in Cairo:\")\n",
    "print(total_rainfall)\n",
    "\n",
    "# (h)\n",
    "cursor.execute(\"SELECT Season, SUM(Rainfall) AS Total_Rainfall FROM weather_data GROUP BY Season\")\n",
    "season_rainfall = cursor.fetchall()\n",
    "print(\"Total rainfall by season:\")\n",
    "for row in season_rainfall:\n",
    "    print(row)\n",
    "\n",
    "\n",
    "# Close the connection\n",
    "conn.close()\n",
    " "
   ]
  },
  {
   "cell_type": "code",
   "execution_count": null,
   "id": "2067e68a",
   "metadata": {},
   "outputs": [],
   "source": []
  },
  {
   "cell_type": "markdown",
   "id": "13b532e6",
   "metadata": {},
   "source": [
    "Question 9\n",
    ". Suppose list words is defined as follows:\n",
    "\n",
    ">>> words = ['The', 'quick', 'brown', 'fox', 'jumps', 'over', \n",
    "'the', 'lazy', 'dog']\n",
    "\n",
    "Write list comprehension expressions that use list words and generate the following \n",
    "lists:\n",
    "\n",
    "a) ['THE', 'QUICK', 'BROWN', 'FOX', 'JUMPS', 'OVER', 'THE', \n",
    "'LAZY', 'DOG']\n",
    "\n",
    "b) ['the', 'quick', 'brown', 'fox', 'jumps', 'over', 'the', \n",
    "'lazy', 'dog']\n",
    "\n",
    "c) [3, 5, 5, 3, 5, 4, 3, 4, 3] (the list of lengths of words in list\n",
    "words).\n",
    "\n",
    "d) [['THE', 'the', 3], ['QUICK', 'quick', 5], ['BROWN',\n",
    "'brown', 5], ['FOX', 'fox', 3], ['JUMPS', 'jumps', 5],\n",
    "['OVER', 'over', 4], ['THE', 'the', 3], ['LAZY', 'lazy',4], ['DOG', 'dog', 3]] (the list containing a list for every word of list words, where each list contains the word in uppercase and lowercase and the \n",
    "length of the word.)\n",
    "\n",
    "e) ['The', 'quick', 'brown', 'fox', 'jumps', 'over', 'the', \n",
    "'lazy', 'dog'] (the list of words in list words containing 4 or more \n",
    "characters.)\n"
   ]
  },
  {
   "cell_type": "code",
   "execution_count": 40,
   "id": "00f233ff",
   "metadata": {},
   "outputs": [
    {
     "name": "stdout",
     "output_type": "stream",
     "text": [
      "['THE', 'QUICK', 'BROWN', 'FOX', 'JUMPS', 'OVER', 'THE', 'LAZY', 'DOG']\n",
      "['the', 'quick', 'brown', 'fox', 'jumps', 'over', 'the', 'lazy', 'dog']\n",
      "[3, 5, 5, 3, 5, 4, 3, 4, 3]\n",
      "[['THE', 'the', 3], ['QUICK', 'quick', 5], ['BROWN', 'brown', 5], ['FOX', 'fox', 3], ['JUMPS', 'jumps', 5], ['OVER', 'over', 4], ['THE', 'the', 3], ['LAZY', 'lazy', 4], ['DOG', 'dog', 3]]\n",
      "['quick', 'brown', 'jumps', 'over', 'lazy']\n"
     ]
    }
   ],
   "source": [
    "#ANSWER of QUESTION 9\n",
    "\n",
    "words = ['The', 'quick', 'brown', 'fox', 'jumps', 'over', 'the', 'lazy', 'dog']\n",
    "\n",
    "#converting all strings of a list to uppercase\n",
    "UC_words = [word.upper() for word in words]\n",
    "print(UC_words)\n",
    "\n",
    "#to keep all strings of a list to lowercase\n",
    "LC_words = [word.lower() for word in words]\n",
    "print(LC_words)\n",
    "\n",
    "#to get length of words in a list \n",
    "w_length = [len(word) for word in words]\n",
    "print(w_length)\n",
    "\n",
    "#creating a list containing a list for every word of list words, where each list contains the word in uppercase and lowercase and the length of the word\n",
    "w_details = [[word.upper(),word.lower(),len(word)] for word in words]\n",
    "print(w_details)\n",
    "\n",
    "#creating a list of words in list words containing 4 or more characters\n",
    "selected_words = [word for word in words if len(word)>=4]\n",
    "print(selected_words)"
   ]
  }
 ],
 "metadata": {
  "kernelspec": {
   "display_name": "Python 3 (ipykernel)",
   "language": "python",
   "name": "python3"
  },
  "language_info": {
   "codemirror_mode": {
    "name": "ipython",
    "version": 3
   },
   "file_extension": ".py",
   "mimetype": "text/x-python",
   "name": "python",
   "nbconvert_exporter": "python",
   "pygments_lexer": "ipython3",
   "version": "3.10.9"
  }
 },
 "nbformat": 4,
 "nbformat_minor": 5
}
